{
  "cells": [
    {
      "cell_type": "code",
      "source": [
        "# Mount Google Drive\n",
        "from google.colab import drive\n",
        "drive.mount('/content/drive')\n",
        "\n",
        "import sqlite3\n",
        "import pandas as pd\n",
        "\n",
        "# Load the healthcare dataset from Google Drive\n",
        "csv_path = '/content/drive/MyDrive/healthcare_dataset.csv'\n",
        "df = pd.read_csv(csv_path)\n",
        "\n",
        "# Connect to SQLite database\n",
        "db_file = '/content/healthcare_analysis.db'\n",
        "connection = sqlite3.connect(db_file)\n",
        "\n",
        "# Create a cursor\n",
        "cursor = connection.cursor()\n",
        "\n",
        "# Create a table for patients\n",
        "create_patients_table_query = \"\"\"\n",
        "CREATE TABLE IF NOT EXISTS patients (\n",
        "    Name TEXT,\n",
        "    Age INTEGER,\n",
        "    Gender TEXT,\n",
        "    BloodType TEXT,\n",
        "    MedicalCondition TEXT,\n",
        "    DateOfAdmission DATE,\n",
        "    Doctor TEXT,\n",
        "    Hospital TEXT,\n",
        "    InsuranceProvider TEXT,\n",
        "    BillingAmount REAL,\n",
        "    RoomNumber INTEGER,\n",
        "    AdmissionType TEXT,\n",
        "    DischargeDate DATE,\n",
        "    Medication TEXT,\n",
        "    TestResults TEXT\n",
        ");\n",
        "\"\"\"\n",
        "cursor.execute(create_patients_table_query)\n"
      ],
      "metadata": {
        "colab": {
          "base_uri": "https://localhost:8080/"
        },
        "id": "Gv6ikfZ3aiXz",
        "outputId": "733b4694-d23d-4049-a090-df97e2d4e5df"
      },
      "execution_count": 17,
      "outputs": [
        {
          "output_type": "stream",
          "name": "stdout",
          "text": [
            "Drive already mounted at /content/drive; to attempt to forcibly remount, call drive.mount(\"/content/drive\", force_remount=True).\n"
          ]
        },
        {
          "output_type": "execute_result",
          "data": {
            "text/plain": [
              "<sqlite3.Cursor at 0x789bcc055240>"
            ]
          },
          "metadata": {},
          "execution_count": 17
        }
      ]
    },
    {
      "cell_type": "code",
      "source": [
        "# Insert data into the patients table\n",
        "df.to_sql('patients', connection, if_exists='replace', index=False)\n",
        "\n",
        "# Commit the changes\n",
        "connection.commit()\n",
        "\n",
        "# Close the connection\n",
        "cursor.close()\n",
        "connection.close()\n"
      ],
      "metadata": {
        "id": "qX5FcbWsj92V"
      },
      "execution_count": 18,
      "outputs": []
    },
    {
      "cell_type": "code",
      "source": [
        "# Connect to SQLite database\n",
        "connection = sqlite3.connect(db_file)\n",
        "\n",
        "# Create a cursor\n",
        "cursor = connection.cursor()\n",
        "\n",
        "# Display the structure of the dataset\n",
        "data_structure_query = \"PRAGMA table_info(patients);\"\n",
        "data_structure = pd.read_sql(data_structure_query, connection)\n",
        "\n",
        "# Retrieve a few rows of data\n",
        "sample_data_query = \"SELECT * FROM patients LIMIT 5;\"\n",
        "sample_data = pd.read_sql(sample_data_query, connection)\n"
      ],
      "metadata": {
        "id": "hkShauEgj-Fq"
      },
      "execution_count": 19,
      "outputs": []
    },
    {
      "cell_type": "code",
      "source": [
        "# Display results\n",
        "print(\"Data Structure:\")\n",
        "print(data_structure)\n",
        "\n",
        "print(\"\\nSample Data:\")\n",
        "print(sample_data)\n",
        "\n",
        "# Close the connection\n",
        "cursor.close()\n",
        "connection.close()\n"
      ],
      "metadata": {
        "colab": {
          "base_uri": "https://localhost:8080/"
        },
        "id": "seboym9pj-VU",
        "outputId": "bf95aed4-e62c-4592-957f-dd91bc91e580"
      },
      "execution_count": 20,
      "outputs": [
        {
          "output_type": "stream",
          "name": "stdout",
          "text": [
            "Data Structure:\n",
            "    cid                name     type  notnull dflt_value  pk\n",
            "0     0                Name     TEXT        0       None   0\n",
            "1     1                 Age  INTEGER        0       None   0\n",
            "2     2              Gender     TEXT        0       None   0\n",
            "3     3          Blood Type     TEXT        0       None   0\n",
            "4     4   Medical Condition     TEXT        0       None   0\n",
            "5     5   Date of Admission     TEXT        0       None   0\n",
            "6     6              Doctor     TEXT        0       None   0\n",
            "7     7            Hospital     TEXT        0       None   0\n",
            "8     8  Insurance Provider     TEXT        0       None   0\n",
            "9     9      Billing Amount     REAL        0       None   0\n",
            "10   10         Room Number  INTEGER        0       None   0\n",
            "11   11      Admission Type     TEXT        0       None   0\n",
            "12   12      Discharge Date     TEXT        0       None   0\n",
            "13   13          Medication     TEXT        0       None   0\n",
            "14   14        Test Results     TEXT        0       None   0\n",
            "\n",
            "Sample Data:\n",
            "                  Name  Age  Gender Blood Type Medical Condition  \\\n",
            "0      Tiffany Ramirez   81  Female         O-          Diabetes   \n",
            "1          Ruben Burns   35    Male         O+            Asthma   \n",
            "2            Chad Byrd   61    Male         B-           Obesity   \n",
            "3    Antonio Frederick   49    Male         B-            Asthma   \n",
            "4  Mrs. Brandy Flowers   51    Male         O-         Arthritis   \n",
            "\n",
            "  Date of Admission          Doctor                   Hospital  \\\n",
            "0        2022-11-17  Patrick Parker           Wallace-Hamilton   \n",
            "1        2023-06-01   Diane Jackson  Burke, Griffin and Cooper   \n",
            "2        2019-01-09      Paul Baker                 Walton LLC   \n",
            "3        2020-05-02  Brian Chandler                 Garcia Ltd   \n",
            "4        2021-07-09  Dustin Griffin    Jones, Brown and Murray   \n",
            "\n",
            "  Insurance Provider  Billing Amount  Room Number Admission Type  \\\n",
            "0           Medicare    37490.983364          146       Elective   \n",
            "1   UnitedHealthcare    47304.064845          404      Emergency   \n",
            "2           Medicare    36874.896997          292      Emergency   \n",
            "3           Medicare    23303.322092          480         Urgent   \n",
            "4   UnitedHealthcare    18086.344184          477         Urgent   \n",
            "\n",
            "  Discharge Date   Medication  Test Results  \n",
            "0     2022-12-01      Aspirin  Inconclusive  \n",
            "1     2023-06-15      Lipitor        Normal  \n",
            "2     2019-02-08      Lipitor        Normal  \n",
            "3     2020-05-03   Penicillin      Abnormal  \n",
            "4     2021-08-02  Paracetamol        Normal  \n"
          ]
        }
      ]
    },
    {
      "cell_type": "code",
      "source": [
        "# Connect to SQLite database\n",
        "connection = sqlite3.connect(db_file)\n",
        "\n",
        "# Create a cursor\n",
        "cursor = connection.cursor()\n",
        "\n",
        "# Analyze age distribution\n",
        "age_distribution_query = \"\"\"\n",
        "SELECT\n",
        "  Age,\n",
        "  COUNT(*) as PatientCount\n",
        "FROM patients\n",
        "GROUP BY Age;\n",
        "\"\"\"\n",
        "age_distribution = pd.read_sql(age_distribution_query, connection)\n"
      ],
      "metadata": {
        "id": "X38NaIELj-iJ"
      },
      "execution_count": 21,
      "outputs": []
    },
    {
      "cell_type": "code",
      "source": [
        "# Analyze gender distribution\n",
        "gender_distribution_query = \"\"\"\n",
        "SELECT\n",
        "  Gender,\n",
        "  COUNT(*) as PatientCount\n",
        "FROM patients\n",
        "GROUP BY Gender;\n",
        "\"\"\"\n",
        "gender_distribution = pd.read_sql(gender_distribution_query, connection)\n",
        "\n",
        "# Display results\n",
        "print(\"Age Distribution:\")\n",
        "print(age_distribution)\n",
        "\n",
        "print(\"\\nGender Distribution:\")\n",
        "print(gender_distribution)\n",
        "\n",
        "# Close the connection\n",
        "cursor.close()\n",
        "connection.close()\n"
      ],
      "metadata": {
        "colab": {
          "base_uri": "https://localhost:8080/"
        },
        "id": "-zFrD0bjj-vJ",
        "outputId": "7a3ea6d5-f635-4a43-fec7-94dc36ee259a"
      },
      "execution_count": 22,
      "outputs": [
        {
          "output_type": "stream",
          "name": "stdout",
          "text": [
            "Age Distribution:\n",
            "    Age  PatientCount\n",
            "0    18           164\n",
            "1    19           132\n",
            "2    20           169\n",
            "3    21           153\n",
            "4    22           123\n",
            "..  ...           ...\n",
            "63   81           159\n",
            "64   82           147\n",
            "65   83           131\n",
            "66   84           133\n",
            "67   85           123\n",
            "\n",
            "[68 rows x 2 columns]\n",
            "\n",
            "Gender Distribution:\n",
            "   Gender  PatientCount\n",
            "0  Female          5075\n",
            "1    Male          4925\n"
          ]
        }
      ]
    },
    {
      "cell_type": "code",
      "source": [
        "# Connect to SQLite database\n",
        "connection = sqlite3.connect(db_file)\n",
        "\n",
        "# Create a cursor\n",
        "cursor = connection.cursor()\n",
        "\n",
        "# Retrieve a few rows to inspect column names\n",
        "sample_data_query = \"\"\"\n",
        "SELECT *\n",
        "FROM patients\n",
        "LIMIT 5;\n",
        "\"\"\"\n",
        "sample_data = pd.read_sql(sample_data_query, connection)\n",
        "\n",
        "# Display the sample data\n",
        "print(\"Sample Data:\")\n",
        "print(sample_data)\n",
        "\n",
        "# Close the connection\n",
        "cursor.close()\n",
        "connection.close()\n"
      ],
      "metadata": {
        "colab": {
          "base_uri": "https://localhost:8080/"
        },
        "id": "LM7IVIsdoDM9",
        "outputId": "b7acfbec-2985-4d35-84b5-c98fd543573c"
      },
      "execution_count": 28,
      "outputs": [
        {
          "output_type": "stream",
          "name": "stdout",
          "text": [
            "Sample Data:\n",
            "                  Name  Age  Gender Blood Type Medical Condition  \\\n",
            "0      Tiffany Ramirez   81  Female         O-          Diabetes   \n",
            "1          Ruben Burns   35    Male         O+            Asthma   \n",
            "2            Chad Byrd   61    Male         B-           Obesity   \n",
            "3    Antonio Frederick   49    Male         B-            Asthma   \n",
            "4  Mrs. Brandy Flowers   51    Male         O-         Arthritis   \n",
            "\n",
            "  Date of Admission          Doctor                   Hospital  \\\n",
            "0        2022-11-17  Patrick Parker           Wallace-Hamilton   \n",
            "1        2023-06-01   Diane Jackson  Burke, Griffin and Cooper   \n",
            "2        2019-01-09      Paul Baker                 Walton LLC   \n",
            "3        2020-05-02  Brian Chandler                 Garcia Ltd   \n",
            "4        2021-07-09  Dustin Griffin    Jones, Brown and Murray   \n",
            "\n",
            "  Insurance Provider  Billing Amount  Room Number Admission Type  \\\n",
            "0           Medicare    37490.983364          146       Elective   \n",
            "1   UnitedHealthcare    47304.064845          404      Emergency   \n",
            "2           Medicare    36874.896997          292      Emergency   \n",
            "3           Medicare    23303.322092          480         Urgent   \n",
            "4   UnitedHealthcare    18086.344184          477         Urgent   \n",
            "\n",
            "  Discharge Date   Medication  Test Results  \n",
            "0     2022-12-01      Aspirin  Inconclusive  \n",
            "1     2023-06-15      Lipitor        Normal  \n",
            "2     2019-02-08      Lipitor        Normal  \n",
            "3     2020-05-03   Penicillin      Abnormal  \n",
            "4     2021-08-02  Paracetamol        Normal  \n"
          ]
        }
      ]
    },
    {
      "cell_type": "code",
      "source": [
        "# Connect to SQLite database\n",
        "connection = sqlite3.connect(db_file)\n",
        "\n",
        "# Create a cursor\n",
        "cursor = connection.cursor()\n",
        "\n",
        "# Analyze medical conditions\n",
        "medical_conditions_query = \"\"\"\n",
        "SELECT\n",
        "  \"Medical Condition\" as MedicalCondition,\n",
        "  COUNT(*) as PatientCount\n",
        "FROM patients\n",
        "GROUP BY MedicalCondition;\n",
        "\"\"\"\n",
        "medical_conditions = pd.read_sql(medical_conditions_query, connection)\n",
        "\n",
        "# Display results\n",
        "print(\"Medical Conditions Analysis:\")\n",
        "print(medical_conditions)\n",
        "\n",
        "# Close the connection\n",
        "cursor.close()\n",
        "connection.close()\n"
      ],
      "metadata": {
        "colab": {
          "base_uri": "https://localhost:8080/"
        },
        "id": "rGq-EoEioDrY",
        "outputId": "451dd991-eb11-49b5-c266-e96dda127315"
      },
      "execution_count": 29,
      "outputs": [
        {
          "output_type": "stream",
          "name": "stdout",
          "text": [
            "Medical Conditions Analysis:\n",
            "  MedicalCondition  PatientCount\n",
            "0        Arthritis          1650\n",
            "1           Asthma          1708\n",
            "2           Cancer          1703\n",
            "3         Diabetes          1623\n",
            "4     Hypertension          1688\n",
            "5          Obesity          1628\n"
          ]
        }
      ]
    },
    {
      "cell_type": "code",
      "source": [
        "# Connect to SQLite database\n",
        "connection = sqlite3.connect(db_file)\n",
        "\n",
        "# Create a cursor\n",
        "cursor = connection.cursor()\n",
        "\n",
        "# Analyze blood types\n",
        "blood_types_query = \"\"\"\n",
        "SELECT\n",
        "  \"Blood Type\" as BloodType,\n",
        "  COUNT(*) as PatientCount\n",
        "FROM patients\n",
        "GROUP BY BloodType;\n",
        "\"\"\"\n",
        "blood_types = pd.read_sql(blood_types_query, connection)\n",
        "\n",
        "# Display results\n",
        "print(\"Blood Types Analysis:\")\n",
        "print(blood_types)\n",
        "\n",
        "# Close the connection\n",
        "cursor.close()\n",
        "connection.close()\n"
      ],
      "metadata": {
        "colab": {
          "base_uri": "https://localhost:8080/"
        },
        "id": "f2cCwhWdoEB7",
        "outputId": "3707f553-7782-4ec1-e41c-8e30b7f80069"
      },
      "execution_count": 32,
      "outputs": [
        {
          "output_type": "stream",
          "name": "stdout",
          "text": [
            "Blood Types Analysis:\n",
            "  BloodType  PatientCount\n",
            "0        A+          1241\n",
            "1        A-          1238\n",
            "2       AB+          1258\n",
            "3       AB-          1275\n",
            "4        B+          1244\n",
            "5        B-          1252\n",
            "6        O+          1248\n",
            "7        O-          1244\n"
          ]
        }
      ]
    },
    {
      "cell_type": "code",
      "source": [
        "# Connect to SQLite database\n",
        "connection = sqlite3.connect(db_file)\n",
        "\n",
        "# Create a cursor\n",
        "cursor = connection.cursor()\n",
        "\n",
        "# Analyze medication distribution\n",
        "medication_distribution_query = \"\"\"\n",
        "SELECT\n",
        "  Medication,\n",
        "  COUNT(*) as PatientCount\n",
        "FROM patients\n",
        "GROUP BY Medication;\n",
        "\"\"\"\n",
        "medication_distribution = pd.read_sql(medication_distribution_query, connection)\n",
        "\n",
        "# Display results\n",
        "print(\"Medication Distribution Analysis:\")\n",
        "print(medication_distribution)\n",
        "\n",
        "# Close the connection\n",
        "cursor.close()\n",
        "connection.close()\n"
      ],
      "metadata": {
        "colab": {
          "base_uri": "https://localhost:8080/"
        },
        "id": "ZiMbDOy0oESj",
        "outputId": "cc11894b-7e84-4c84-f5d2-da3c61c4c7d8"
      },
      "execution_count": 33,
      "outputs": [
        {
          "output_type": "stream",
          "name": "stdout",
          "text": [
            "Medication Distribution Analysis:\n",
            "    Medication  PatientCount\n",
            "0      Aspirin          1968\n",
            "1    Ibuprofen          1976\n",
            "2      Lipitor          2015\n",
            "3  Paracetamol          1962\n",
            "4   Penicillin          2079\n"
          ]
        }
      ]
    },
    {
      "cell_type": "code",
      "source": [
        "# Connect to SQLite database\n",
        "connection = sqlite3.connect(db_file)\n",
        "\n",
        "# Create a cursor\n",
        "cursor = connection.cursor()\n",
        "\n",
        "# Analyze test results\n",
        "test_results_query = \"\"\"\n",
        "SELECT\n",
        "  \"Test Results\" as TestResults,\n",
        "  COUNT(*) as PatientCount\n",
        "FROM patients\n",
        "GROUP BY TestResults;\n",
        "\"\"\"\n",
        "test_results = pd.read_sql(test_results_query, connection)\n",
        "\n",
        "# Display results\n",
        "print(\"Test Results Analysis:\")\n",
        "print(test_results)\n",
        "\n",
        "# Close the connection\n",
        "cursor.close()\n",
        "connection.close()\n"
      ],
      "metadata": {
        "colab": {
          "base_uri": "https://localhost:8080/"
        },
        "id": "NEHya_2GoEpL",
        "outputId": "f767171b-84b2-4e7e-a69f-2222f444e858"
      },
      "execution_count": 35,
      "outputs": [
        {
          "output_type": "stream",
          "name": "stdout",
          "text": [
            "Test Results Analysis:\n",
            "    TestResults  PatientCount\n",
            "0      Abnormal          3456\n",
            "1  Inconclusive          3277\n",
            "2        Normal          3267\n"
          ]
        }
      ]
    },
    {
      "cell_type": "code",
      "source": [
        "# Connect to SQLite database\n",
        "connection = sqlite3.connect(db_file)\n",
        "\n",
        "# Create a cursor\n",
        "cursor = connection.cursor()\n",
        "\n",
        "# Correlation between age and billing amount\n",
        "age_billing_correlation_query = \"\"\"\n",
        "SELECT\n",
        "  Age,\n",
        "  AVG(\"Billing Amount\") as AvgBillingAmount\n",
        "FROM patients\n",
        "GROUP BY Age;\n",
        "\"\"\"\n",
        "age_billing_correlation = pd.read_sql(age_billing_correlation_query, connection)\n",
        "\n",
        "# Display results\n",
        "print(\"Age-Billing Correlation:\")\n",
        "print(age_billing_correlation)\n",
        "\n",
        "# Close the connection\n",
        "cursor.close()\n",
        "connection.close()\n"
      ],
      "metadata": {
        "colab": {
          "base_uri": "https://localhost:8080/"
        },
        "id": "zc2X-O3gptkl",
        "outputId": "da4f9eb6-8ec8-4a07-90e8-058cef634207"
      },
      "execution_count": 38,
      "outputs": [
        {
          "output_type": "stream",
          "name": "stdout",
          "text": [
            "Age-Billing Correlation:\n",
            "    Age  AvgBillingAmount\n",
            "0    18      26579.229435\n",
            "1    19      24308.656799\n",
            "2    20      27092.522760\n",
            "3    21      26974.847365\n",
            "4    22      24724.059899\n",
            "..  ...               ...\n",
            "63   81      25038.110131\n",
            "64   82      24646.693825\n",
            "65   83      23763.756833\n",
            "66   84      26382.833446\n",
            "67   85      23299.278963\n",
            "\n",
            "[68 rows x 2 columns]\n"
          ]
        }
      ]
    },
    {
      "cell_type": "code",
      "source": [
        "# Connect to SQLite database\n",
        "connection = sqlite3.connect(db_file)\n",
        "\n",
        "# Create a cursor\n",
        "cursor = connection.cursor()\n",
        "\n",
        "# Correlation between medication and test results\n",
        "medication_test_correlation_query = \"\"\"\n",
        "SELECT\n",
        "  Medication,\n",
        "  \"Test Results\",\n",
        "  COUNT(*) as PatientCount\n",
        "FROM patients\n",
        "GROUP BY Medication, \"Test Results\";\n",
        "\"\"\"\n",
        "medication_test_correlation = pd.read_sql(medication_test_correlation_query, connection)\n",
        "\n",
        "# Display results\n",
        "print(\"Medication-Test Correlation:\")\n",
        "print(medication_test_correlation)\n",
        "\n",
        "# Close the connection\n",
        "cursor.close()\n",
        "connection.close()\n"
      ],
      "metadata": {
        "colab": {
          "base_uri": "https://localhost:8080/"
        },
        "id": "o7i1n6VxpuIo",
        "outputId": "efcf9a81-6978-4f21-a55b-e9282204be21"
      },
      "execution_count": 40,
      "outputs": [
        {
          "output_type": "stream",
          "name": "stdout",
          "text": [
            "Medication-Test Correlation:\n",
            "     Medication  Test Results  PatientCount\n",
            "0       Aspirin      Abnormal           654\n",
            "1       Aspirin  Inconclusive           634\n",
            "2       Aspirin        Normal           680\n",
            "3     Ibuprofen      Abnormal           680\n",
            "4     Ibuprofen  Inconclusive           627\n",
            "5     Ibuprofen        Normal           669\n",
            "6       Lipitor      Abnormal           721\n",
            "7       Lipitor  Inconclusive           685\n",
            "8       Lipitor        Normal           609\n",
            "9   Paracetamol      Abnormal           685\n",
            "10  Paracetamol  Inconclusive           651\n",
            "11  Paracetamol        Normal           626\n",
            "12   Penicillin      Abnormal           716\n",
            "13   Penicillin  Inconclusive           680\n",
            "14   Penicillin        Normal           683\n"
          ]
        }
      ]
    },
    {
      "cell_type": "code",
      "source": [
        "# Connect to SQLite database\n",
        "connection = sqlite3.connect(db_file)\n",
        "\n",
        "# Create a cursor\n",
        "cursor = connection.cursor()\n",
        "\n",
        "# Analyze admissions over time\n",
        "admissions_over_time_query = \"\"\"\n",
        "SELECT\n",
        "  DATE(\"Date Of Admission\") as AdmissionDay,\n",
        "  COUNT(*) as AdmissionsCount\n",
        "FROM patients\n",
        "GROUP BY AdmissionDay;\n",
        "\"\"\"\n",
        "admissions_over_time = pd.read_sql(admissions_over_time_query, connection)\n",
        "\n",
        "# Display results\n",
        "print(\"Admissions Over Time:\")\n",
        "print(admissions_over_time)\n",
        "\n",
        "# Close the connection\n",
        "cursor.close()\n",
        "connection.close()\n"
      ],
      "metadata": {
        "colab": {
          "base_uri": "https://localhost:8080/"
        },
        "id": "_3vYin9XpuYw",
        "outputId": "b53821d0-a97c-447b-bc83-852a734fb851"
      },
      "execution_count": 42,
      "outputs": [
        {
          "output_type": "stream",
          "name": "stdout",
          "text": [
            "Admissions Over Time:\n",
            "     AdmissionDay  AdmissionsCount\n",
            "0      2018-10-30                3\n",
            "1      2018-10-31                5\n",
            "2      2018-11-01                5\n",
            "3      2018-11-02                6\n",
            "4      2018-11-03                3\n",
            "...           ...              ...\n",
            "1810   2023-10-26                5\n",
            "1811   2023-10-27                7\n",
            "1812   2023-10-28                6\n",
            "1813   2023-10-29                4\n",
            "1814   2023-10-30                8\n",
            "\n",
            "[1815 rows x 2 columns]\n"
          ]
        }
      ]
    },
    {
      "cell_type": "code",
      "source": [
        "# Connect to SQLite database\n",
        "connection = sqlite3.connect(db_file)\n",
        "\n",
        "# Create a cursor\n",
        "cursor = connection.cursor()\n",
        "\n",
        "# Correlation between age and billing amount\n",
        "age_billing_correlation_query = \"\"\"\n",
        "SELECT\n",
        "  Age,\n",
        "  AVG(\"Billing Amount\") as AvgBillingAmount\n",
        "FROM patients\n",
        "GROUP BY Age;\n",
        "\"\"\"\n",
        "age_billing_correlation = pd.read_sql(age_billing_correlation_query, connection)\n",
        "\n",
        "# Display results\n",
        "print(\"Age and Billing Amount Correlation:\")\n",
        "print(age_billing_correlation)\n",
        "\n",
        "# Correlation between medication and test results\n",
        "medication_test_correlation_query = \"\"\"\n",
        "SELECT\n",
        "  Medication,\n",
        "  \"Test Results\",\n",
        "  COUNT(*) as PatientCount\n",
        "FROM patients\n",
        "GROUP BY Medication, \"Test Results\";\n",
        "\"\"\"\n",
        "medication_test_correlation = pd.read_sql(medication_test_correlation_query, connection)\n",
        "\n",
        "# Display results\n",
        "print(\"\\nMedication and Test Results Correlation:\")\n",
        "print(medication_test_correlation)\n",
        "\n",
        "# Close the connection\n",
        "cursor.close()\n",
        "connection.close()\n"
      ],
      "metadata": {
        "colab": {
          "base_uri": "https://localhost:8080/"
        },
        "id": "4nx-N8N7oE9Q",
        "outputId": "b299eb4c-c311-4ccc-a066-02a5b19a2233"
      },
      "execution_count": 48,
      "outputs": [
        {
          "output_type": "stream",
          "name": "stdout",
          "text": [
            "Age and Billing Amount Correlation:\n",
            "    Age  AvgBillingAmount\n",
            "0    18      26579.229435\n",
            "1    19      24308.656799\n",
            "2    20      27092.522760\n",
            "3    21      26974.847365\n",
            "4    22      24724.059899\n",
            "..  ...               ...\n",
            "63   81      25038.110131\n",
            "64   82      24646.693825\n",
            "65   83      23763.756833\n",
            "66   84      26382.833446\n",
            "67   85      23299.278963\n",
            "\n",
            "[68 rows x 2 columns]\n",
            "\n",
            "Medication and Test Results Correlation:\n",
            "     Medication  Test Results  PatientCount\n",
            "0       Aspirin      Abnormal           654\n",
            "1       Aspirin  Inconclusive           634\n",
            "2       Aspirin        Normal           680\n",
            "3     Ibuprofen      Abnormal           680\n",
            "4     Ibuprofen  Inconclusive           627\n",
            "5     Ibuprofen        Normal           669\n",
            "6       Lipitor      Abnormal           721\n",
            "7       Lipitor  Inconclusive           685\n",
            "8       Lipitor        Normal           609\n",
            "9   Paracetamol      Abnormal           685\n",
            "10  Paracetamol  Inconclusive           651\n",
            "11  Paracetamol        Normal           626\n",
            "12   Penicillin      Abnormal           716\n",
            "13   Penicillin  Inconclusive           680\n",
            "14   Penicillin        Normal           683\n"
          ]
        }
      ]
    }
  ],
  "metadata": {
    "colab": {
      "provenance": []
    },
    "kernelspec": {
      "display_name": "Python 3",
      "name": "python3"
    },
    "language_info": {
      "name": "python"
    }
  },
  "nbformat": 4,
  "nbformat_minor": 0
}